{
 "cells": [
  {
   "cell_type": "code",
   "execution_count": 17,
   "metadata": {},
   "outputs": [],
   "source": [
    "from CNN_setup.datasets.dataset_tools import load_dataset\n",
    "from CNN_setup.utils.cnn_models_utils import load_model\n",
    "from CNN_setup.model.CIFAR_CNN import CIFAR_CNN_Classifier\n",
    "from torchvision.datasets import CIFAR10\n",
    "from torch.utils.data import DataLoader"
   ]
  },
  {
   "cell_type": "code",
   "execution_count": 12,
   "metadata": {},
   "outputs": [
    {
     "name": "stdout",
     "output_type": "stream",
     "text": [
      "Files already downloaded and verified\n"
     ]
    }
   ],
   "source": [
    "test_rotated = load_dataset(r'data\\transformed\\cifar-only-0',flat=True)\n",
    "roated_loader = DataLoader(test_rotated,  batch_size=32, shuffle=True)\n",
    "test_cifar = CIFAR10(root='./data', train=False, download=True)\n",
    "orig_loader = DataLoader(test_cifar,  batch_size=32, shuffle=True)"
   ]
  },
  {
   "cell_type": "code",
   "execution_count": 10,
   "metadata": {},
   "outputs": [],
   "source": [
    "class GradualDrifttoader:\n",
    "    def __init__(self, orig_loader, drift_loader, shift_step = 8):\n",
    "        self.loader1 = iter(orig_loader)\n",
    "        self.loader2 = iter(drift_loader)\n",
    "        self.shift_step = shift_step\n",
    "        self.current_shift = 0\n",
    "\n",
    "    def __iter__(self):\n",
    "        return self\n",
    "\n",
    "    def __next__(self):\n",
    "        if self.current_shift > 32:\n",
    "            raise StopIteration\n",
    "\n",
    "        batch1 = next(self.loader1, None)\n",
    "        batch2 = next(self.loader2, None)\n",
    "\n",
    "        if batch1 is None or batch2 is None:\n",
    "            raise StopIteration\n",
    "\n",
    "        # Take the first (batch_size - current_shift) samples from batch1\n",
    "        batch1 = batch1[:32 - self.current_shift]\n",
    "\n",
    "        # Take the first current_shift samples from batch2\n",
    "        batch2 = batch2[:self.current_shift]\n",
    "\n",
    "        # Combine the two batches\n",
    "        combined_batch = torch.cat([batch1, batch2])\n",
    "\n",
    "        # Increase the shift for the next batch\n",
    "        self.current_shift += self.shift_step\n",
    "\n",
    "        return combined_batch"
   ]
  },
  {
   "cell_type": "code",
   "execution_count": 14,
   "metadata": {},
   "outputs": [],
   "source": [
    "gradual_loader = GradualDrifttoader(orig_loader = orig_loader, drift_loader = roated_loader, shift_step=8)"
   ]
  },
  {
   "cell_type": "code",
   "execution_count": 18,
   "metadata": {},
   "outputs": [],
   "source": [
    "model = load_model('trained_models\\CNN_cifar_downloaded.torch', CIFAR_CNN_Classifier())"
   ]
  },
  {
   "cell_type": "code",
   "execution_count": null,
   "metadata": {},
   "outputs": [],
   "source": []
  }
 ],
 "metadata": {
  "kernelspec": {
   "display_name": "CNN",
   "language": "python",
   "name": "python3"
  },
  "language_info": {
   "codemirror_mode": {
    "name": "ipython",
    "version": 3
   },
   "file_extension": ".py",
   "mimetype": "text/x-python",
   "name": "python",
   "nbconvert_exporter": "python",
   "pygments_lexer": "ipython3",
   "version": "3.11.7"
  }
 },
 "nbformat": 4,
 "nbformat_minor": 2
}
