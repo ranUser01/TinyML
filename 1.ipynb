{
 "cells": [
  {
   "cell_type": "code",
   "execution_count": 11,
   "metadata": {},
   "outputs": [],
   "source": [
    "from CNN_setup.model.CIFAR_CNN import CIFAR_CNN_Classifier\n",
    "from CNN_setup.model.MNIST_CNN import Mnist_CNN_Classifier\n",
    "from CNN_setup.utils.cnn_models_utils import load_model\n",
    "\n",
    "from torch.utils.data import DataLoader\n",
    "from torchvision.datasets import CIFAR10, ImageFolder, MNIST\n",
    "from torchvision.transforms import  ToTensor, Compose, Grayscale\n",
    "from DDAL_utils import DDAL_test, DDAL_test_gradual\n",
    "import pickle\n",
    "from torch.utils.data import DataLoader, random_split, Subset"
   ]
  },
  {
   "cell_type": "code",
   "execution_count": 2,
   "metadata": {},
   "outputs": [],
   "source": [
    "withhold_class = ImageFolder(root='data/transformed/mnist-w-0', transform=Compose([ToTensor(),Grayscale(num_output_channels=1)]))\n",
    "drift_loader = DataLoader(dataset=withhold_class, batch_size = 32)"
   ]
  },
  {
   "cell_type": "code",
   "execution_count": 4,
   "metadata": {},
   "outputs": [],
   "source": [
    "for inputs, labels in drift_loader:\n",
    "    break"
   ]
  },
  {
   "cell_type": "code",
   "execution_count": 6,
   "metadata": {},
   "outputs": [
    {
     "data": {
      "text/plain": [
       "tensor([0, 0, 0, 0, 0, 0, 0, 0, 0, 0, 0, 0, 0, 0, 0, 0, 0, 0, 0, 0, 0, 0, 0, 0,\n",
       "        0, 0, 0, 0, 0, 0, 0, 0])"
      ]
     },
     "execution_count": 6,
     "metadata": {},
     "output_type": "execute_result"
    }
   ],
   "source": [
    "labels"
   ]
  },
  {
   "cell_type": "code",
   "execution_count": 12,
   "metadata": {},
   "outputs": [],
   "source": [
    "t_dataset = ImageFolder(root='data/transformed/train_mnist/mnist-wo-0',\n",
    "                                transform=Compose([ToTensor(),Grayscale(num_output_channels=1)]))\n",
    "v_dataset = ImageFolder(root='data/transformed/train_mnist/mnist-wo-0',\n",
    "                        transform=Compose([ToTensor(),Grayscale(num_output_channels=1)]))\n",
    "\n",
    "# # train\n",
    "# train_dataset =  Subset(t_dataset, train_indices)\n",
    "# val_dataset = Subset(v_dataset, val_indices)"
   ]
  },
  {
   "cell_type": "code",
   "execution_count": 15,
   "metadata": {},
   "outputs": [
    {
     "data": {
      "text/plain": [
       "54077"
      ]
     },
     "execution_count": 15,
     "metadata": {},
     "output_type": "execute_result"
    }
   ],
   "source": [
    "len(t_dataset)"
   ]
  },
  {
   "cell_type": "code",
   "execution_count": 24,
   "metadata": {},
   "outputs": [
    {
     "name": "stdout",
     "output_type": "stream",
     "text": [
      "Lambda: 0.8 Theta: 0.5 Batch Size: 32\n",
      "Lambda: 0.8 Theta: 0.55 Batch Size: 32\n",
      "Lambda: 0.8 Theta: 0.6 Batch Size: 32\n",
      "Lambda: 0.8 Theta: 0.65 Batch Size: 32\n",
      "Lambda: 0.8 Theta: 0.7 Batch Size: 32\n",
      "Lambda: 0.8 Theta: 0.75 Batch Size: 32\n",
      "Lambda: 0.8 Theta: 0.8 Batch Size: 32\n",
      "Lambda: 0.8 Theta: 0.85 Batch Size: 32\n",
      "Lambda: 0.8 Theta: 0.9 Batch Size: 32\n",
      "Lambda: 0.8 Theta: 0.95 Batch Size: 32\n",
      "Lambda: 0.85 Theta: 0.5 Batch Size: 32\n",
      "Lambda: 0.85 Theta: 0.55 Batch Size: 32\n",
      "Lambda: 0.85 Theta: 0.6 Batch Size: 32\n",
      "Lambda: 0.85 Theta: 0.65 Batch Size: 32\n",
      "Lambda: 0.85 Theta: 0.7 Batch Size: 32\n",
      "Lambda: 0.85 Theta: 0.75 Batch Size: 32\n",
      "Lambda: 0.85 Theta: 0.8 Batch Size: 32\n",
      "Lambda: 0.85 Theta: 0.85 Batch Size: 32\n",
      "Lambda: 0.85 Theta: 0.9 Batch Size: 32\n",
      "Lambda: 0.85 Theta: 0.95 Batch Size: 32\n",
      "Lambda: 0.9 Theta: 0.5 Batch Size: 32\n",
      "Lambda: 0.9 Theta: 0.55 Batch Size: 32\n",
      "Lambda: 0.9 Theta: 0.6 Batch Size: 32\n",
      "Lambda: 0.9 Theta: 0.65 Batch Size: 32\n",
      "Lambda: 0.9 Theta: 0.7 Batch Size: 32\n",
      "Lambda: 0.9 Theta: 0.75 Batch Size: 32\n",
      "Lambda: 0.9 Theta: 0.8 Batch Size: 32\n",
      "Lambda: 0.9 Theta: 0.85 Batch Size: 32\n",
      "Lambda: 0.9 Theta: 0.9 Batch Size: 32\n",
      "Lambda: 0.9 Theta: 0.95 Batch Size: 32\n",
      "Lambda: 0.95 Theta: 0.5 Batch Size: 32\n",
      "Lambda: 0.95 Theta: 0.55 Batch Size: 32\n",
      "Lambda: 0.95 Theta: 0.6 Batch Size: 32\n",
      "Lambda: 0.95 Theta: 0.65 Batch Size: 32\n",
      "Lambda: 0.95 Theta: 0.7 Batch Size: 32\n",
      "Lambda: 0.95 Theta: 0.75 Batch Size: 32\n",
      "Lambda: 0.95 Theta: 0.8 Batch Size: 32\n",
      "Lambda: 0.95 Theta: 0.85 Batch Size: 32\n",
      "Lambda: 0.95 Theta: 0.9 Batch Size: 32\n",
      "Lambda: 0.95 Theta: 0.95 Batch Size: 32\n"
     ]
    }
   ],
   "source": [
    "from itertools import product\n",
    "\n",
    "lambidas = [x/20 for x in range(16, 20)]\n",
    "thetas = [x/20 for x in range(10, 20)]\n",
    "batch_sizes = [32] ##[i*32 for i in range(1, 11)]\n",
    "\n",
    "for la, th, bs in product(lambidas, thetas, batch_sizes):\n",
    "    print(\"Lambda:\", la, \"Theta:\", th, \"Batch Size:\", bs)"
   ]
  },
  {
   "cell_type": "code",
   "execution_count": 28,
   "metadata": {},
   "outputs": [
    {
     "data": {
      "text/plain": [
       "[0.85, 0.875, 0.9, 0.925, 0.95, 0.975]"
      ]
     },
     "execution_count": 28,
     "metadata": {},
     "output_type": "execute_result"
    }
   ],
   "source": [
    "lambidas = [x/40 for x in range(34, 40)]\n",
    "lambidas"
   ]
  },
  {
   "cell_type": "code",
   "execution_count": 31,
   "metadata": {},
   "outputs": [
    {
     "data": {
      "text/plain": [
       "[0.75, 0.775, 0.8, 0.825, 0.85, 0.875, 0.9, 0.925, 0.95, 0.975]"
      ]
     },
     "execution_count": 31,
     "metadata": {},
     "output_type": "execute_result"
    }
   ],
   "source": [
    "thetas = [x/40 for x in range(30, 40)]\n",
    "thetas"
   ]
  },
  {
   "cell_type": "code",
   "execution_count": null,
   "metadata": {},
   "outputs": [],
   "source": []
  },
  {
   "cell_type": "code",
   "execution_count": null,
   "metadata": {},
   "outputs": [],
   "source": []
  },
  {
   "cell_type": "code",
   "execution_count": null,
   "metadata": {},
   "outputs": [],
   "source": []
  },
  {
   "cell_type": "code",
   "execution_count": null,
   "metadata": {},
   "outputs": [],
   "source": []
  },
  {
   "cell_type": "code",
   "execution_count": null,
   "metadata": {},
   "outputs": [],
   "source": []
  },
  {
   "cell_type": "code",
   "execution_count": null,
   "metadata": {},
   "outputs": [],
   "source": []
  }
 ],
 "metadata": {
  "kernelspec": {
   "display_name": "Python 3",
   "language": "python",
   "name": "python3"
  },
  "language_info": {
   "codemirror_mode": {
    "name": "ipython",
    "version": 3
   },
   "file_extension": ".py",
   "mimetype": "text/x-python",
   "name": "python",
   "nbconvert_exporter": "python",
   "pygments_lexer": "ipython3",
   "version": "3.10.11"
  }
 },
 "nbformat": 4,
 "nbformat_minor": 2
}
