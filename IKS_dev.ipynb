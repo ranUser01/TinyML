{
 "cells": [
  {
   "cell_type": "code",
   "execution_count": null,
   "metadata": {},
   "outputs": [],
   "source": [
    "from CNN_setup.model.CIFAR_CNN import CIFAR_CNN_Classifier\n",
    "from CNN_setup.model.MNIST_CNN import Mnist_CNN_Classifier\n",
    "from CNN_setup.utils.cnn_models_utils import load_model\n",
    "\n",
    "from torch.utils.data import DataLoader\n",
    "from torchvision.datasets import CIFAR10, ImageFolder, MNIST\n",
    "from torchvision.transforms import  ToTensor, Compose, Grayscale\n",
    "from DDAL_utils import DDAL_test, DDAL_test_gradual\n",
    "import pickle\n",
    "from torch.utils.data import DataLoader, random_split, Subset\n",
    "\n",
    "from incremental_ks.IncrementalKS.IKSSW import IKSSW\n",
    "from incremental_ks.IncrementalKS.IKS import IKS\n",
    "from collections import deque\n",
    "from random import random\n",
    "\n",
    "from CNN_setup.datasets.dataset_tools import GradualDrifttoader"
   ]
  },
  {
   "cell_type": "code",
   "execution_count": 138,
   "metadata": {},
   "outputs": [],
   "source": [
    "train_dataset = MNIST(root='./data', train=False, download=True, transform=ToTensor())\n",
    "train_dataloader = DataLoader(train_dataset, batch_size=1, shuffle=True)\n",
    "\n",
    "drfit_dataloader = DataLoader(train_dataset, batch_size=1, shuffle=True)"
   ]
  },
  {
   "cell_type": "code",
   "execution_count": 141,
   "metadata": {},
   "outputs": [],
   "source": [
    "def test_IKS_abrupt(orig_loader, drift_loader):\n",
    "    res_dict = {}\n",
    "    res_dict['Drift Detected'] = list()\n",
    "    \n",
    "    n = -1\n",
    "    iks_list = [IKS() for _ in range(28**2)]  # create a seperate IKS for each feature in the image \n",
    "\n",
    "    cur_loader = orig_loader\n",
    "    for i in range(len(orig_loader)):\n",
    "        iks_test_results = []\n",
    "        ks_statistics = []\n",
    "\n",
    "        if n == len(orig_loader):\n",
    "            break\n",
    "        else:\n",
    "            n += 1\n",
    "\n",
    "        ## Here the dataloader changes to simulate an abrupt drift \n",
    "        if n == len(orig_loader) // 2 and drift_loader is not None:\n",
    "            cur_loader = drift_loader\n",
    "            res_dict['drift started at'] = n \n",
    "\n",
    "        for img, label in cur_loader: # it returns only 1 batch at a time\n",
    "            assert(len(label) == 1) # ensures that I take only 1 image\n",
    "            img = img.reshape(1,-1).tolist()[0]\n",
    "\n",
    "            for iks, feature_val in zip(iks_list, img):\n",
    "                if n != -1 : ## if it does not setup reference windows \n",
    "                    iks.Add(feature_val,1)\n",
    "                else: # set reference \n",
    "                    iks.Add(feature_val, 0)\n",
    "                    ks_statistics.append(iks.KS())\n",
    "                    test_res = iks.Test()\n",
    "                    iks_test_results.append(test_res)\n",
    "                    if test_res : \n",
    "                        print(f'Drift detected at: {n}')\n",
    "                        res_dict['Drift Detected'].append(n)\n",
    "                    res_dict[i] = (iks_test_results, ks_statistics)\n",
    "                    \n",
    "    return res_dict\n",
    "  "
   ]
  },
  {
   "cell_type": "code",
   "execution_count": null,
   "metadata": {},
   "outputs": [],
   "source": [
    "def test_IKS_gradual(orig_loader, drift_loader):\n",
    "    res_dict = {}\n",
    "    res_dict['Drift Detected'] = list()\n",
    "    \n",
    "    n = -1\n",
    "    iks_list = [IKS() for _ in range(28**2)]  # create a seperate IKS for each feature in the image \n",
    "    \n",
    "    grad_loader = GradualDrifttoader(orig_loader,drift_loader)\n",
    "    res_dict = {}\n",
    "    res_dict['Drift Detected'] = list()\n",
    "    res_dict['Drift started at'] = len(grad_loader)//2\n",
    "        \n",
    "    for i in range(len(grad_loader)):\n",
    "        iks_test_results = []\n",
    "        ks_statistics = []\n",
    "\n",
    "        for img, label in grad_loader: # it returns only 1 batch at a time\n",
    "            assert(len(label) == 1) # ensures that I take only 1 image\n",
    "            img = img.reshape(1,-1).tolist()[0]\n",
    "\n",
    "            for iks, feature_val in zip(iks_list, img):\n",
    "                if n != -1 : ## if it does not setup reference windows \n",
    "                    iks.Add(feature_val,1)\n",
    "                else: # set reference \n",
    "                    iks.Add(feature_val, 0)\n",
    "                    ks_statistics.append(iks.KS())\n",
    "                    test_res = iks.Test()\n",
    "                    iks_test_results.append(test_res)\n",
    "                    if test_res : \n",
    "                        print(f'Drift detected at: {n}')\n",
    "                        res_dict['Drift Detected'].append(n)\n",
    "                    res_dict[i] = (iks_test_results, ks_statistics)\n",
    "                    \n",
    "    return res_dict"
   ]
  },
  {
   "cell_type": "code",
   "execution_count": 142,
   "metadata": {},
   "outputs": [
    {
     "ename": "KeyboardInterrupt",
     "evalue": "",
     "output_type": "error",
     "traceback": [
      "\u001b[1;31m---------------------------------------------------------------------------\u001b[0m",
      "\u001b[1;31mKeyboardInterrupt\u001b[0m                         Traceback (most recent call last)",
      "Input \u001b[1;32mIn [142]\u001b[0m, in \u001b[0;36m<cell line: 1>\u001b[1;34m()\u001b[0m\n\u001b[1;32m----> 1\u001b[0m \u001b[43mtest_IKS_abrupt\u001b[49m\u001b[43m(\u001b[49m\u001b[43mtrain_dataloader\u001b[49m\u001b[43m,\u001b[49m\u001b[43m \u001b[49m\u001b[43mdrfit_dataloader\u001b[49m\u001b[43m)\u001b[49m\n",
      "Input \u001b[1;32mIn [141]\u001b[0m, in \u001b[0;36mtest_IKS_abrupt\u001b[1;34m(orig_loader, drift_loader)\u001b[0m\n\u001b[0;32m     27\u001b[0m \u001b[38;5;28;01mfor\u001b[39;00m iks, feature_val \u001b[38;5;129;01min\u001b[39;00m \u001b[38;5;28mzip\u001b[39m(iks_list, img):\n\u001b[0;32m     28\u001b[0m     \u001b[38;5;28;01mif\u001b[39;00m n \u001b[38;5;241m!=\u001b[39m \u001b[38;5;241m-\u001b[39m\u001b[38;5;241m1\u001b[39m : \u001b[38;5;66;03m## if it does not setup reference windows \u001b[39;00m\n\u001b[1;32m---> 29\u001b[0m         \u001b[43miks\u001b[49m\u001b[38;5;241;43m.\u001b[39;49m\u001b[43mAdd\u001b[49m\u001b[43m(\u001b[49m\u001b[43mfeature_val\u001b[49m\u001b[43m,\u001b[49m\u001b[38;5;241;43m1\u001b[39;49m\u001b[43m)\u001b[49m\n\u001b[0;32m     30\u001b[0m     \u001b[38;5;28;01melse\u001b[39;00m: \u001b[38;5;66;03m# set reference \u001b[39;00m\n\u001b[0;32m     31\u001b[0m         iks\u001b[38;5;241m.\u001b[39mAdd(feature_val, \u001b[38;5;241m0\u001b[39m)\n",
      "File \u001b[1;32mc:\\Users\\wilkk\\Documents\\TinyML\\incremental_ks\\IncrementalKS\\IKS.py:75\u001b[0m, in \u001b[0;36mIKS.Add\u001b[1;34m(self, obs, group)\u001b[0m\n\u001b[0;32m     73\u001b[0m left, left_g \u001b[38;5;241m=\u001b[39m Treap\u001b[38;5;241m.\u001b[39mSplitGreatest(left)\n\u001b[0;32m     74\u001b[0m val \u001b[38;5;241m=\u001b[39m \u001b[38;5;241m0\u001b[39m \u001b[38;5;28;01mif\u001b[39;00m left_g \u001b[38;5;129;01mis\u001b[39;00m \u001b[38;5;28;01mNone\u001b[39;00m \u001b[38;5;28;01melse\u001b[39;00m left_g\u001b[38;5;241m.\u001b[39mvalue\n\u001b[1;32m---> 75\u001b[0m left \u001b[38;5;241m=\u001b[39m \u001b[43mTreap\u001b[49m\u001b[38;5;241;43m.\u001b[39;49m\u001b[43mMerge\u001b[49m\u001b[43m(\u001b[49m\u001b[43mleft\u001b[49m\u001b[43m,\u001b[49m\u001b[43m \u001b[49m\u001b[43mleft_g\u001b[49m\u001b[43m)\u001b[49m\n\u001b[0;32m     77\u001b[0m right \u001b[38;5;241m=\u001b[39m Treap\u001b[38;5;241m.\u001b[39mMerge(Treap(key, val), right)\n\u001b[0;32m     79\u001b[0m Treap\u001b[38;5;241m.\u001b[39mSumAll(right, \u001b[38;5;241m1\u001b[39m \u001b[38;5;28;01mif\u001b[39;00m group \u001b[38;5;241m==\u001b[39m \u001b[38;5;241m0\u001b[39m \u001b[38;5;28;01melse\u001b[39;00m \u001b[38;5;241m-\u001b[39m\u001b[38;5;241m1\u001b[39m)\n",
      "File \u001b[1;32mc:\\Users\\wilkk\\Documents\\TinyML\\incremental_ks\\IncrementalKS\\Treap.py:94\u001b[0m, in \u001b[0;36mTreap.Merge\u001b[1;34m(cls, left, right)\u001b[0m\n\u001b[0;32m     91\u001b[0m   right\u001b[38;5;241m.\u001b[39mleft \u001b[38;5;241m=\u001b[39m \u001b[38;5;28mcls\u001b[39m\u001b[38;5;241m.\u001b[39mMerge(left, right\u001b[38;5;241m.\u001b[39mleft)\n\u001b[0;32m     92\u001b[0m   node \u001b[38;5;241m=\u001b[39m right\n\u001b[1;32m---> 94\u001b[0m \u001b[38;5;28;43mcls\u001b[39;49m\u001b[38;5;241;43m.\u001b[39;49m\u001b[43mUpdate\u001b[49m\u001b[43m(\u001b[49m\u001b[43mnode\u001b[49m\u001b[43m)\u001b[49m\n\u001b[0;32m     95\u001b[0m \u001b[38;5;28;01mreturn\u001b[39;00m node\n",
      "File \u001b[1;32mc:\\Users\\wilkk\\Documents\\TinyML\\incremental_ks\\IncrementalKS\\Treap.py:44\u001b[0m, in \u001b[0;36mTreap.Update\u001b[1;34m(cls, node)\u001b[0m\n\u001b[0;32m     42\u001b[0m   node\u001b[38;5;241m.\u001b[39msize \u001b[38;5;241m+\u001b[39m\u001b[38;5;241m=\u001b[39m node\u001b[38;5;241m.\u001b[39mleft\u001b[38;5;241m.\u001b[39msize\n\u001b[0;32m     43\u001b[0m   node\u001b[38;5;241m.\u001b[39mheight \u001b[38;5;241m=\u001b[39m node\u001b[38;5;241m.\u001b[39mleft\u001b[38;5;241m.\u001b[39mheight\n\u001b[1;32m---> 44\u001b[0m   node\u001b[38;5;241m.\u001b[39mmax_value \u001b[38;5;241m=\u001b[39m \u001b[38;5;28;43mmax\u001b[39;49m\u001b[43m(\u001b[49m\u001b[43mnode\u001b[49m\u001b[38;5;241;43m.\u001b[39;49m\u001b[43mmax_value\u001b[49m\u001b[43m,\u001b[49m\u001b[43m \u001b[49m\u001b[43mnode\u001b[49m\u001b[38;5;241;43m.\u001b[39;49m\u001b[43mleft\u001b[49m\u001b[38;5;241;43m.\u001b[39;49m\u001b[43mmax_value\u001b[49m\u001b[43m)\u001b[49m\n\u001b[0;32m     45\u001b[0m   node\u001b[38;5;241m.\u001b[39mmin_value \u001b[38;5;241m=\u001b[39m \u001b[38;5;28mmin\u001b[39m(node\u001b[38;5;241m.\u001b[39mmin_value, node\u001b[38;5;241m.\u001b[39mleft\u001b[38;5;241m.\u001b[39mmin_value)\n\u001b[0;32m     47\u001b[0m \u001b[38;5;28;01mif\u001b[39;00m node\u001b[38;5;241m.\u001b[39mright \u001b[38;5;129;01mis\u001b[39;00m \u001b[38;5;129;01mnot\u001b[39;00m \u001b[38;5;28;01mNone\u001b[39;00m:\n",
      "\u001b[1;31mKeyboardInterrupt\u001b[0m: "
     ]
    }
   ],
   "source": [
    "test_IKS_abrupt(train_dataloader, drfit_dataloader)"
   ]
  },
  {
   "cell_type": "code",
   "execution_count": null,
   "metadata": {},
   "outputs": [],
   "source": []
  }
 ],
 "metadata": {
  "kernelspec": {
   "display_name": "CNN",
   "language": "python",
   "name": "python3"
  },
  "language_info": {
   "codemirror_mode": {
    "name": "ipython",
    "version": 3
   },
   "file_extension": ".py",
   "mimetype": "text/x-python",
   "name": "python",
   "nbconvert_exporter": "python",
   "pygments_lexer": "ipython3",
   "version": "3.10.11"
  }
 },
 "nbformat": 4,
 "nbformat_minor": 2
}
