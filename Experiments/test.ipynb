{
 "cells": [
  {
   "cell_type": "code",
   "execution_count": 3,
   "metadata": {},
   "outputs": [],
   "source": [
    "from cnn_models_utils import load_model, get_probabilities, evaluate, train_with_earlystop\n",
    "from CIFAR_CNN import CIFAR_CNN_Classifier\n",
    "from torchvision.datasets import CIFAR10\n",
    "from torch.utils.data import DataLoader, random_split\n",
    "from torchvision.transforms import Compose, ToTensor, Normalize, RandomRotation\n",
    "\n",
    "from torch import save, no_grad, argmax, load\n",
    "\n",
    "\n",
    "from MNIST_CNN_earlystopping import Net, Mnist_CNN_Classifier"
   ]
  },
  {
   "cell_type": "code",
   "execution_count": 8,
   "metadata": {},
   "outputs": [
    {
     "name": "stdout",
     "output_type": "stream",
     "text": [
      "Files already downloaded and verified\n",
      "Files already downloaded and verified\n",
      "Accuracy for class: plane is 64.2 %\n",
      "Accuracy for class: car is 77.7 %\n",
      "Accuracy for class: bird is 39.1 %\n",
      "Accuracy for class: cat is 52.6 %\n",
      "Accuracy for class: deer is 36.9 %\n",
      "Accuracy for class: dog is 49.2 %\n",
      "Accuracy for class: frog is 52.1 %\n",
      "Accuracy for class: horse is 57.0 %\n",
      "Accuracy for class: ship is 67.0 %\n",
      "Accuracy for class: truck is 55.6 %\n",
      "Total Accuracy: 55.1 %\n"
     ]
    }
   ],
   "source": [
    "transform = Compose([ToTensor(), Normalize((0.5, 0.5, 0.5), (0.5, 0.5, 0.5))])\n",
    "\n",
    "test_dataset = CIFAR10(root='../data', train=False, download=True, transform=transform)\n",
    "test_dataloader = DataLoader(test_dataset, batch_size=32, shuffle=False)\n",
    "\n",
    "model = load_model(\"models/CNN_cifar_base_softmax.torch\",CIFAR_CNN_Classifier())\n",
    "# probs = get_probabilities(test_dataloader,model)\n",
    "# print(probs[0:1])\n",
    "\n",
    "\n",
    "# Rotate images by 90 degrees \n",
    "transform = Compose([ToTensor(), RandomRotation (degrees = 90) ,Normalize((0.5, 0.5, 0.5), (0.5, 0.5, 0.5))])\n",
    "test__rotated_dataset = CIFAR10(root='../data', train=False, download=True, transform=transform)\n",
    "test_Rrotated_dataloader = DataLoader(test_dataset, batch_size=32, shuffle=False)\n",
    "\n",
    "classes = ('plane', 'car', 'bird', 'cat',\n",
    "           'deer', 'dog', 'frog', 'horse', 'ship', 'truck')\n",
    "\n",
    "evaluate(test_Rrotated_dataloader,model,classes = classes)"
   ]
  },
  {
   "cell_type": "code",
   "execution_count": 7,
   "metadata": {},
   "outputs": [
    {
     "name": "stdout",
     "output_type": "stream",
     "text": [
      "Accuracy for class: plane is 63.6 %\n",
      "Accuracy for class: car is 76.8 %\n",
      "Accuracy for class: bird is 41.1 %\n",
      "Accuracy for class: cat is 51.8 %\n",
      "Accuracy for class: deer is 33.9 %\n",
      "Accuracy for class: dog is 48.7 %\n",
      "Accuracy for class: frog is 50.4 %\n",
      "Accuracy for class: horse is 58.2 %\n",
      "Accuracy for class: ship is 66.0 %\n",
      "Accuracy for class: truck is 54.3 %\n",
      "Total Accuracy: 54.5 %\n"
     ]
    }
   ],
   "source": [
    "correct_pred = {classname: 0 for classname in classes}\n",
    "total_pred = {classname: 0 for classname in classes}\n",
    "\n",
    "with no_grad():\n",
    "    for data in test_dataloader:\n",
    "        images, labels = data\n",
    "        outputs = model(images)\n",
    "        predictions = argmax(outputs, 1) \n",
    "        for label, prediction in zip(labels, predictions):\n",
    "            if label == prediction:\n",
    "                correct_pred[classes[label]] += 1\n",
    "            total_pred[classes[label]] += 1\n",
    "\n",
    "for classname, correct_count in correct_pred.items():\n",
    "    accuracy = 100 * float(correct_count) / total_pred[classname]\n",
    "    print(f'Accuracy for class: {classname} is {accuracy:.1f} %')\n",
    "\n",
    "total_accuracy = sum(correct_pred.values()) / sum(total_pred.values())\n",
    "print(f'Total Accuracy: {total_accuracy * 100:.1f} %')"
   ]
  },
  {
   "cell_type": "markdown",
   "metadata": {},
   "source": [
    "# test mnist non-local load and train"
   ]
  },
  {
   "cell_type": "code",
   "execution_count": 39,
   "metadata": {},
   "outputs": [
    {
     "name": "stderr",
     "output_type": "stream",
     "text": [
      "Training progress:  85%|████████████▊  | 17/20 [04:14<00:44, 14.95s/it, Epoch Loss=1.52, Validation Loss=1.51, Best val loss=1.51, Patience Counter=2]\n"
     ]
    },
    {
     "name": "stdout",
     "output_type": "stream",
     "text": [
      "Early stopping triggered!\n",
      "Accuracy for class: 0 is 97.3 %\n",
      "Accuracy for class: 1 is 97.2 %\n",
      "Accuracy for class: 2 is 96.5 %\n",
      "Accuracy for class: 3 is 95.5 %\n",
      "Accuracy for class: 4 is 95.1 %\n",
      "Accuracy for class: 5 is 94.1 %\n",
      "Accuracy for class: 6 is 95.4 %\n",
      "Accuracy for class: 7 is 95.1 %\n",
      "Accuracy for class: 8 is 91.7 %\n",
      "Accuracy for class: 9 is 93.9 %\n",
      "Total Accuracy: 95.2 %\n"
     ]
    }
   ],
   "source": [
    "from torchvision.datasets.mnist import MNIST \n",
    "train_dataset = MNIST(root='./data', train=True, download=True, transform=ToTensor())\n",
    "train_dataloader = DataLoader(train_dataset, batch_size=32, shuffle=True)\n",
    "\n",
    "# split train to train and val\n",
    "train_size = int(0.9 * len(train_dataset))\n",
    "val_size = len(train_dataset) - train_size\n",
    "\n",
    "train_dataset, val_dataset = random_split(train_dataset, [train_size, val_size])\n",
    "\n",
    "#val\n",
    "train_dataloader = DataLoader(train_dataset, batch_size=32, shuffle=True)\n",
    "val_dataloader = DataLoader(val_dataset, batch_size=32, shuffle=True)\n",
    "\n",
    "test_dataset = MNIST(root='./data', train=False, download=False, transform=ToTensor())\n",
    "test_dataloader = DataLoader(test_dataset, batch_size=32, shuffle=True)\n",
    "\n",
    "m =  Mnist_CNN_Classifier()\n",
    "m =  Net()\n",
    "\n",
    "model = train_with_earlystop(dataloader = train_dataloader, model = m, lr= 0.02,\n",
    "                                    , patience=3, dataloader_val = val_dataloader , num_epochs= 20)\n",
    "\n",
    "evaluate(test_dataloader, model)"
   ]
  },
  {
   "cell_type": "code",
   "execution_count": null,
   "metadata": {},
   "outputs": [],
   "source": []
  }
 ],
 "metadata": {
  "kernelspec": {
   "display_name": "CNN",
   "language": "python",
   "name": "python3"
  },
  "language_info": {
   "codemirror_mode": {
    "name": "ipython",
    "version": 3
   },
   "file_extension": ".py",
   "mimetype": "text/x-python",
   "name": "python",
   "nbconvert_exporter": "python",
   "pygments_lexer": "ipython3",
   "version": "3.11.7"
  }
 },
 "nbformat": 4,
 "nbformat_minor": 2
}
