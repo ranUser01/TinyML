{
 "cells": [
  {
   "cell_type": "markdown",
   "metadata": {},
   "source": [
    "Concept drift"
   ]
  },
  {
   "cell_type": "code",
   "execution_count": 2,
   "metadata": {},
   "outputs": [
    {
     "name": "stdout",
     "output_type": "stream",
     "text": [
      "No concept drift detected\n",
      "Final accuracy: 0.9766\n",
      "\n",
      "Concept drift detected at step 142. Accuracy: 0.9510\n",
      "Final accuracy: 0.8480\n",
      "\n"
     ]
    }
   ],
   "source": [
    "import numpy as np\n",
    "from sklearn.datasets import load_breast_cancer\n",
    "from sklearn.linear_model import LogisticRegression\n",
    "from sklearn.model_selection import train_test_split\n",
    "from sklearn.pipeline import Pipeline\n",
    "from sklearn.preprocessing import StandardScaler\n",
    "\n",
    "from frouros.detectors.concept_drift import DDM, DDMConfig\n",
    "from frouros.metrics import PrequentialError\n",
    "\n",
    "np.random.seed(seed=31)\n",
    "\n",
    "# Load breast cancer dataset\n",
    "X, y = load_breast_cancer(return_X_y=True)\n",
    "\n",
    "# Split train (70%) and test (30%)\n",
    "(\n",
    "    X_train,\n",
    "    X_test,\n",
    "    y_train,\n",
    "    y_test,\n",
    ") = train_test_split(X, y, train_size=0.7, random_state=31)\n",
    "\n",
    "# Define and fit model\n",
    "pipeline = Pipeline(\n",
    "    [\n",
    "        (\"scaler\", StandardScaler()),\n",
    "        (\"model\", LogisticRegression()),\n",
    "    ]\n",
    ")\n",
    "pipeline.fit(X=X_train, y=y_train)\n",
    "\n",
    "# Detector configuration and instantiation\n",
    "config = DDMConfig(\n",
    "    warning_level=2.0,\n",
    "    drift_level=3.0,\n",
    "    min_num_instances=25,  # minimum number of instances before checking for concept drift\n",
    ")\n",
    "detector = DDM(config=config)\n",
    "\n",
    "# Metric to compute accuracyX_train\n",
    "metric = PrequentialError(alpha=1.0)  # alpha=1.0 is equivalent to normal accuracy\n",
    "\n",
    "def stream_test(X_test, y_test, y, metric, detector):\n",
    "    \"\"\"Simulate data stream over X_test and y_test. y is the true label.\"\"\"\n",
    "    drift_flag = False\n",
    "    for i, (X, y) in enumerate(zip(X_test, y_test)):\n",
    "        y_pred = pipeline.predict(X.reshape(1, -1))\n",
    "        error = 1 - (y_pred.item() == y.item())\n",
    "        metric_error = metric(error_value=error)\n",
    "        _ = detector.update(value=error)\n",
    "        status = detector.status\n",
    "        if status[\"drift\"] and not drift_flag:\n",
    "            drift_flag = True\n",
    "            print(f\"Concept drift detected at step {i}. Accuracy: {1 - metric_error:.4f}\")\n",
    "    if not drift_flag:\n",
    "        print(\"No concept drift detected\")\n",
    "    print(f\"Final accuracy: {1 - metric_error:.4f}\\n\")\n",
    "\n",
    "# Simulate data stream (assuming test label available after each prediction)\n",
    "# No concept drift is expected to occur\n",
    "stream_test(\n",
    "    X_test=X_test,\n",
    "    y_test=y_test,\n",
    "    y=y,\n",
    "    metric=metric,\n",
    "    detector=detector,\n",
    ")\n",
    "# >> No concept drift detected\n",
    "# >> Final accuracy: 0.9766\n",
    "\n",
    "# IMPORTANT: Induce/simulate concept drift in the last part (20%)\n",
    "# of y_test by modifying some labels (50% approx). Therefore, changing P(y|X))\n",
    "drift_size = int(y_test.shape[0] * 0.2)\n",
    "y_test_drift = y_test[-drift_size:]\n",
    "modify_idx = np.random.rand(*y_test_drift.shape) <= 0.5\n",
    "y_test_drift[modify_idx] = (y_test_drift[modify_idx] + 1) % len(np.unique(y_test))\n",
    "y_test[-drift_size:] = y_test_drift\n",
    "\n",
    "# Reset detector and metric\n",
    "detector.reset()\n",
    "metric.reset()\n",
    "\n",
    "# Simulate data stream (assuming test label available after each prediction)\n",
    "# Concept drift is expected to occur because of the label modification\n",
    "stream_test(\n",
    "    X_test=X_test,\n",
    "    y_test=y_test,\n",
    "    y=y,\n",
    "    metric=metric,\n",
    "    detector=detector,\n",
    ")\n",
    "# >> Concept drift detected at step 142. Accuracy: 0.9510\n",
    "# >> Final accuracy: 0.8480"
   ]
  },
  {
   "cell_type": "markdown",
   "metadata": {},
   "source": [
    "data drift"
   ]
  },
  {
   "cell_type": "code",
   "execution_count": 32,
   "metadata": {},
   "outputs": [
    {
     "name": "stdout",
     "output_type": "stream",
     "text": [
      "Data drift detected at feature 2\n"
     ]
    }
   ],
   "source": [
    "import numpy as np\n",
    "from sklearn.datasets import load_iris\n",
    "from sklearn.model_selection import train_test_split\n",
    "from sklearn.tree import DecisionTreeClassifier\n",
    "\n",
    "from frouros.detectors.data_drift import KSTest\n",
    "\n",
    "np.random.seed(seed=31)\n",
    "\n",
    "# Load iris dataset\n",
    "X, y = load_iris(return_X_y=True)\n",
    "\n",
    "# Split train (70%) and test (30%)\n",
    "(\n",
    "    X_train,\n",
    "    X_test,\n",
    "    y_train,\n",
    "    y_test,\n",
    ") = train_test_split(X, y, train_size=0.7, random_state=31)\n",
    "\n",
    "# Set the feature index to which detector is applied\n",
    "feature_idx = 2\n",
    "\n",
    "# IMPORTANT: Induce/simulate data drift in the selected feature of y_test by\n",
    "# applying some gaussian noise. Therefore, changing P(X))\n",
    "X_test[:, feature_idx] += np.random.normal(\n",
    "    loc=0.0,\n",
    "    scale=5.0,\n",
    "    size=X_test.shape[0],\n",
    ")\n",
    "\n",
    "# Define and fit model\n",
    "model = DecisionTreeClassifier(random_state=31)\n",
    "model.fit(X=X_train, y=y_train)\n",
    "\n",
    "# Set significance level for hypothesis testing\n",
    "alpha = 0.05\n",
    "# Define and fit detector\n",
    "detector = KSTest()\n",
    "_ = detector.fit(X=X_train[:, feature_idx])\n",
    "\n",
    "# Apply detector to the selected feature of X_test\n",
    "result, _ = detector.compare(X=X_test[:, feature_idx])\n",
    "\n",
    "# Check if drift is taking place\n",
    "if result.p_value <= alpha:\n",
    "    print(f\"Data drift detected at feature {feature_idx}\")\n",
    "else:\n",
    "    print(f\"No data drift detected at feature {feature_idx}\")\n",
    "# >> Data drift detected at feature 0\n",
    "# Therefore, we can reject H0 (both samples come from the same distribution)."
   ]
  },
  {
   "cell_type": "code",
   "execution_count": 33,
   "metadata": {},
   "outputs": [
    {
     "data": {
      "text/plain": [
       "StatisticalResult(statistic=0.35873015873015873, p_value=0.00042040091697037726)"
      ]
     },
     "execution_count": 33,
     "metadata": {},
     "output_type": "execute_result"
    }
   ],
   "source": [
    "result"
   ]
  },
  {
   "cell_type": "code",
   "execution_count": null,
   "metadata": {},
   "outputs": [],
   "source": []
  }
 ],
 "metadata": {
  "kernelspec": {
   "display_name": "Frouros",
   "language": "python",
   "name": "python3"
  },
  "language_info": {
   "codemirror_mode": {
    "name": "ipython",
    "version": 3
   },
   "file_extension": ".py",
   "mimetype": "text/x-python",
   "name": "python",
   "nbconvert_exporter": "python",
   "pygments_lexer": "ipython3",
   "version": "3.11.8"
  }
 },
 "nbformat": 4,
 "nbformat_minor": 2
}
