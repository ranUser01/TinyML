{
 "cells": [
  {
   "cell_type": "code",
   "execution_count": 1,
   "metadata": {},
   "outputs": [],
   "source": [
    "\n",
    "from torch import manual_seed, tensor, nonzero, logical_not, load, save\n",
    "from torchvision.datasets import CIFAR10, MNIST, ImageFolder\n",
    "from torch.utils.data import DataLoader\n",
    "from torchvision.transforms import Compose, ToTensor, Normalize, RandomRotation\n",
    "from CNN_setup.model.CIFAR_CNN import CIFAR_CNN_Classifier\n",
    "from CNN_setup.model.MNIST_CNN import Mnist_CNN_Classifier, Mnist_Linerar_NN_Classifier\n",
    "from CNN_setup.vars.CIFARvars import CIFAR10_classes\n",
    "from CNN_setup.vars.MNISTvars import MNIST_classes\n",
    "from CNN_setup.datasets.datasets import CustomCIFAR10, CustomMNIST\n",
    "from CNN_setup.utils.cnn_models_utils import load_model, evaluate, evaluate_batch, get_probabilities_batch\n",
    "\n",
    "from CNN_setup.datasets.dataset_tools import save_dataset, combine_datasets, load_dataset\n",
    "from PIL import Image\n",
    "from incremental_ks.IncrementalKS.IKSSW import IKSSW, IKS\n",
    "from collections import deque\n",
    "\n",
    "from DDAL.ddal import DDAL_detector\n",
    "from torch import max, cat\n",
    "from DDAL_utils import DDAL_test\n",
    "from CNN_setup.datasets.dataset_tools import GradualDrifttoader"
   ]
  },
  {
   "cell_type": "code",
   "execution_count": 2,
   "metadata": {},
   "outputs": [
    {
     "name": "stdout",
     "output_type": "stream",
     "text": [
      "Files already downloaded and verified\n"
     ]
    }
   ],
   "source": [
    "rotated = ImageFolder(root='data/transformed/cifar-rotated90', transform=ToTensor())\n",
    "drift_loader = DataLoader(dataset=rotated, batch_size = 32, shuffle=True)\n",
    "test_cifar = CIFAR10(root='./data', train=False, download=True, transform=ToTensor())\n",
    "orig_loader = DataLoader(test_cifar,  batch_size=32, shuffle=True)"
   ]
  },
  {
   "cell_type": "code",
   "execution_count": 3,
   "metadata": {},
   "outputs": [],
   "source": [
    "model = load_model('trained_models\\CNN_cifar_downloaded.torch', CIFAR_CNN_Classifier())"
   ]
  },
  {
   "cell_type": "code",
   "execution_count": 26,
   "metadata": {},
   "outputs": [],
   "source": [
    "from CNN_setup.model.CIFAR_CNN import CIFAR_CNN_Classifier\n",
    "from CNN_setup.model.MNIST_CNN import Mnist_CNN_Classifier\n",
    "from CNN_setup.utils.cnn_models_utils import load_model\n",
    "from torchvision.transforms import  ToTensor, Compose, Grayscale\n",
    "from torch.utils.data import DataLoader\n",
    "from torchvision.datasets import CIFAR10, ImageFolder, MNIST\n",
    "from DDAL_utils import DDAL_test, DDAL_test_gradual\n",
    "import pickle\n",
    "\n",
    "    \n",
    "rotated = ImageFolder(root='data/transformed/mnist-rotated90', transform=Compose([ToTensor(),Grayscale(num_output_channels=1)]))\n",
    "drift_loader = DataLoader(dataset=rotated, batch_size = 32)\n",
    "test_mnist = MNIST(root='./data', train=False, download=True, transform=ToTensor())\n",
    "orig_loader = DataLoader(test_mnist,  batch_size=32, shuffle=True)\n",
    "\n",
    "model = load_model('trained_models\\CNN_mnist_downloaded.torch', Mnist_CNN_Classifier())\n",
    "\n",
    "out = DDAL_test(orig_loader=orig_loader,drift_loader=drift_loader, model=model)\n",
    "\n",
    "with open('experiments_results/mnist_rotate_abrupt_rotate.dict', 'wb') as f:\n",
    "    pickle.dump(out, f)\n",
    "\n",
    "out = DDAL_test_gradual(orig_loader=orig_loader,drift_loader=drift_loader, model=model)\n",
    "\n",
    "with open('experiments_results/mnist_rotate_gradual_rotate.dict', 'wb') as f:\n",
    "    pickle.dump(out, f)\n",
    "    \n",
    "rotated = ImageFolder(root='data/transformed/mnist-w-0', transform=Compose([ToTensor(),Grayscale(num_output_channels=1)]))\n",
    "drift_loader = DataLoader(dataset=rotated, batch_size = 32)\n",
    "\n",
    "\n",
    "out = DDAL_test(orig_loader=orig_loader,drift_loader=drift_loader, model=model)\n",
    "\n",
    "with open('experiments_results/mnist_rotate_abrupt_w-0.dict', 'wb') as f:\n",
    "    pickle.dump(out, f)\n",
    "\n",
    "out = DDAL_test_gradual(orig_loader=orig_loader,drift_loader=drift_loader, model=model)\n",
    "\n",
    "with open('experiments_results/mnist_rotate_gradual_w-0.dict', 'wb') as f:\n",
    "    pickle.dump(out, f)"
   ]
  },
  {
   "cell_type": "code",
   "execution_count": 20,
   "metadata": {},
   "outputs": [
    {
     "data": {
      "text/plain": [
       "torch.Size([32, 1, 28, 28])"
      ]
     },
     "execution_count": 20,
     "metadata": {},
     "output_type": "execute_result"
    }
   ],
   "source": [
    "rotated = ImageFolder(root='data/transformed/mnist-rotated90', transform=Compose([ToTensor(),Grayscale(num_output_channels=1)]))\n",
    "drift_loader = DataLoader(dataset=rotated, batch_size = 32)\n",
    "\n",
    "for i,l in drift_loader:\n",
    "    break\n",
    "i.shape"
   ]
  },
  {
   "cell_type": "code",
   "execution_count": 12,
   "metadata": {},
   "outputs": [
    {
     "data": {
      "text/plain": [
       "torch.Size([1, 28, 28])"
      ]
     },
     "execution_count": 12,
     "metadata": {},
     "output_type": "execute_result"
    }
   ],
   "source": [
    "for i,l in test_mnist:\n",
    "    break\n",
    "i.shape"
   ]
  },
  {
   "cell_type": "code",
   "execution_count": null,
   "metadata": {},
   "outputs": [],
   "source": []
  }
 ],
 "metadata": {
  "kernelspec": {
   "display_name": "CNN",
   "language": "python",
   "name": "python3"
  },
  "language_info": {
   "codemirror_mode": {
    "name": "ipython",
    "version": 3
   },
   "file_extension": ".py",
   "mimetype": "text/x-python",
   "name": "python",
   "nbconvert_exporter": "python",
   "pygments_lexer": "ipython3",
   "version": "3.11.7"
  }
 },
 "nbformat": 4,
 "nbformat_minor": 2
}
