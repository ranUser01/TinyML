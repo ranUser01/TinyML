{
 "cells": [
  {
   "cell_type": "code",
   "execution_count": 3,
   "metadata": {},
   "outputs": [],
   "source": [
    "from cnn_models_utils import load_model, get_probabilities, evaluate, train_with_earlystop\n",
    "from CIFAR_CNN import CIFAR_CNN_Classifier\n",
    "from torchvision.datasets import CIFAR10\n",
    "from torch.utils.data import DataLoader, random_split\n",
    "from torchvision.transforms import Compose, ToTensor, Normalize, RandomRotation\n",
    "\n",
    "from torch import save, no_grad, argmax, load\n",
    "\n",
    "\n",
    "from MNIST_CNN import Net, Mnist_CNN_Classifier"
   ]
  },
  {
   "cell_type": "code",
   "execution_count": 40,
   "metadata": {},
   "outputs": [
    {
     "name": "stdout",
     "output_type": "stream",
     "text": [
      "Files already downloaded and verified\n",
      "Files already downloaded and verified\n"
     ]
    },
    {
     "name": "stderr",
     "output_type": "stream",
     "text": [
      "c:\\Users\\wilkk\\OneDrive - ITU\\3rd year\\TinyML\\Experiments\\CIFAR_CNN.py:50: UserWarning: Implicit dimension choice for softmax has been deprecated. Change the call to include dim=X as an argument.\n",
      "  return softmax(input=x, dim=1)\n"
     ]
    },
    {
     "name": "stdout",
     "output_type": "stream",
     "text": [
      "Accuracy for class: plane is 69.7 %\n",
      "Accuracy for class: car is 82.8 %\n",
      "Accuracy for class: bird is 34.4 %\n",
      "Accuracy for class: cat is 46.2 %\n",
      "Accuracy for class: deer is 46.8 %\n",
      "Accuracy for class: dog is 55.0 %\n",
      "Accuracy for class: frog is 61.6 %\n",
      "Accuracy for class: horse is 60.7 %\n",
      "Accuracy for class: ship is 68.7 %\n",
      "Accuracy for class: truck is 65.1 %\n",
      "Total Accuracy: 59.1 %\n"
     ]
    }
   ],
   "source": [
    "transform = Compose([ToTensor(), Normalize((0.5, 0.5, 0.5), (0.5, 0.5, 0.5))])\n",
    "\n",
    "test_dataset = CIFAR10(root='../data', train=False, download=True, transform=transform)\n",
    "test_dataloader = DataLoader(test_dataset, batch_size=32, shuffle=False)\n",
    "\n",
    "model = load_model(\"models/CNN_cifar_downloaded.torch\",CIFAR_CNN_Classifier())\n",
    "# probs = get_probabilities(test_dataloader,model)\n",
    "# print(probs[0:1])\n",
    "\n",
    "\n",
    "# Rotate images by 90 degrees \n",
    "transform = Compose([ToTensor(), RandomRotation (degrees = 90) ,Normalize((0.5, 0.5, 0.5), (0.5, 0.5, 0.5))])\n",
    "test__rotated_dataset = CIFAR10(root='../data', train=False, download=True, transform=transform)\n",
    "test_Rrotated_dataloader = DataLoader(test_dataset, batch_size=32, shuffle=False)\n",
    "\n",
    "classes = ('plane', 'car', 'bird', 'cat',\n",
    "           'deer', 'dog', 'frog', 'horse', 'ship', 'truck')\n",
    "\n",
    "evaluate(test_Rrotated_dataloader,model,classes = classes)"
   ]
  },
  {
   "cell_type": "code",
   "execution_count": 41,
   "metadata": {},
   "outputs": [
    {
     "name": "stdout",
     "output_type": "stream",
     "text": [
      "Accuracy for class: plane is 69.5 %\n",
      "Accuracy for class: car is 83.3 %\n",
      "Accuracy for class: bird is 32.7 %\n",
      "Accuracy for class: cat is 46.2 %\n",
      "Accuracy for class: deer is 48.9 %\n",
      "Accuracy for class: dog is 53.0 %\n",
      "Accuracy for class: frog is 61.1 %\n",
      "Accuracy for class: horse is 61.0 %\n",
      "Accuracy for class: ship is 70.8 %\n",
      "Accuracy for class: truck is 66.7 %\n",
      "Total Accuracy: 59.3 %\n"
     ]
    }
   ],
   "source": [
    "evaluate(test_dataloader,model,classes = classes)"
   ]
  },
  {
   "cell_type": "markdown",
   "metadata": {},
   "source": [
    "# test mnist non-local load and train"
   ]
  },
  {
   "cell_type": "code",
   "execution_count": 39,
   "metadata": {},
   "outputs": [
    {
     "name": "stderr",
     "output_type": "stream",
     "text": [
      "Training progress:  85%|████████████▊  | 17/20 [04:14<00:44, 14.95s/it, Epoch Loss=1.52, Validation Loss=1.51, Best val loss=1.51, Patience Counter=2]\n"
     ]
    },
    {
     "name": "stdout",
     "output_type": "stream",
     "text": [
      "Early stopping triggered!\n",
      "Accuracy for class: 0 is 97.3 %\n",
      "Accuracy for class: 1 is 97.2 %\n",
      "Accuracy for class: 2 is 96.5 %\n",
      "Accuracy for class: 3 is 95.5 %\n",
      "Accuracy for class: 4 is 95.1 %\n",
      "Accuracy for class: 5 is 94.1 %\n",
      "Accuracy for class: 6 is 95.4 %\n",
      "Accuracy for class: 7 is 95.1 %\n",
      "Accuracy for class: 8 is 91.7 %\n",
      "Accuracy for class: 9 is 93.9 %\n",
      "Total Accuracy: 95.2 %\n"
     ]
    }
   ],
   "source": [
    "from torchvision.datasets.mnist import MNIST \n",
    "train_dataset = MNIST(root='./data', train=True, download=True, transform=ToTensor())\n",
    "train_dataloader = DataLoader(train_dataset, batch_size=32, shuffle=True)\n",
    "\n",
    "# split train to train and val\n",
    "train_size = int(0.9 * len(train_dataset))\n",
    "val_size = len(train_dataset) - train_size\n",
    "\n",
    "train_dataset, val_dataset = random_split(train_dataset, [train_size, val_size])\n",
    "\n",
    "#val\n",
    "train_dataloader = DataLoader(train_dataset, batch_size=32, shuffle=True)\n",
    "val_dataloader = DataLoader(val_dataset, batch_size=32, shuffle=True)\n",
    "\n",
    "test_dataset = MNIST(root='./data', train=False, download=False, transform=ToTensor())\n",
    "test_dataloader = DataLoader(test_dataset, batch_size=32, shuffle=True)\n",
    "\n",
    "m =  Mnist_CNN_Classifier()\n",
    "m =  Net()\n",
    "\n",
    "model = train_with_earlystop(dataloader = train_dataloader, model = m, lr= 0.02,\n",
    "                                    , patience=3, dataloader_val = val_dataloader , num_epochs= 20)\n",
    "\n",
    "evaluate(test_dataloader, model)"
   ]
  },
  {
   "cell_type": "code",
   "execution_count": null,
   "metadata": {},
   "outputs": [],
   "source": []
  }
 ],
 "metadata": {
  "kernelspec": {
   "display_name": "CNN",
   "language": "python",
   "name": "python3"
  },
  "language_info": {
   "codemirror_mode": {
    "name": "ipython",
    "version": 3
   },
   "file_extension": ".py",
   "mimetype": "text/x-python",
   "name": "python",
   "nbconvert_exporter": "python",
   "pygments_lexer": "ipython3",
   "version": "3.11.7"
  }
 },
 "nbformat": 4,
 "nbformat_minor": 2
}
