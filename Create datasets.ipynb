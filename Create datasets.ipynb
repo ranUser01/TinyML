{
 "cells": [
  {
   "cell_type": "code",
   "execution_count": 110,
   "metadata": {},
   "outputs": [],
   "source": [
    "from torch import manual_seed, tensor, nonzero, logical_not, load, save\n",
    "from torchvision.datasets import CIFAR10\n",
    "from torch.utils.data import DataLoader, random_split, IterableDataset, Dataset, sampler\n",
    "from torchvision.transforms import Compose, ToTensor, Normalize, RandomRotation\n",
    "from torchvision.datasets.mnist import MNIST \n",
    "from torchshow import show\n",
    "from CNN_setup.model.CIFAR_CNN import CIFAR_CNN_Classifier\n",
    "from CNN_setup.vars.CIFARvars import CIFAR10_classes\n",
    "from CNN_setup.datasets.datasets import CustomCIFAR10, CustomMNIST\n",
    "\n",
    "from CNN_setup.model.MNIST_CNN import Mnist_CNN_Classifier\n",
    "from CNN_setup.vars.MNISTvars import MNIST_classes\n",
    "\n",
    "from CNN_setup.utils.cnn_models_utils import load_model, evaluate\n",
    "\n",
    "from PIL import Image\n",
    "from torchshow import show\n",
    "\n",
    "from CNN_setup.datasets.dataset_tools import save_dataset\n",
    "\n",
    "from torchvision.datasets import ImageFolder"
   ]
  },
  {
   "cell_type": "markdown",
   "metadata": {},
   "source": [
    "# Incremental, abrupt, and transformations"
   ]
  },
  {
   "cell_type": "code",
   "execution_count": 2,
   "metadata": {},
   "outputs": [],
   "source": [
    "transform = Compose([ToTensor()])"
   ]
  },
  {
   "cell_type": "code",
   "execution_count": 3,
   "metadata": {},
   "outputs": [
    {
     "name": "stdout",
     "output_type": "stream",
     "text": [
      "Files already downloaded and verified\n"
     ]
    }
   ],
   "source": [
    "train_dataset = CIFAR10(root='./data', train=True, download=True, transform=transform)\n",
    "train_dataloader = DataLoader(train_dataset, batch_size=32, shuffle=True)\n",
    "\n",
    "test_dataset = CIFAR10(root='./data', train=False, download=False, transform=transform)\n",
    "test_dataloader = DataLoader(test_dataset, batch_size=32)"
   ]
  },
  {
   "cell_type": "markdown",
   "metadata": {},
   "source": [
    "### Withhold a class"
   ]
  },
  {
   "cell_type": "code",
   "execution_count": 95,
   "metadata": {},
   "outputs": [
    {
     "data": {
      "text/plain": [
       "Dataset CIFAR10\n",
       "    Number of datapoints: 10000\n",
       "    Root location: ./data\n",
       "    Split: Test"
      ]
     },
     "execution_count": 95,
     "metadata": {},
     "output_type": "execute_result"
    }
   ],
   "source": [
    "raw_data = CIFAR10(root='./data', train=False, download=True)"
   ]
  },
  {
   "cell_type": "code",
   "execution_count": null,
   "metadata": {},
   "outputs": [],
   "source": [
    "save_dataset(path='data/transformed/cifar-rotated90', data=raw_data, transform=Image.Image.rotate, args=(90,))"
   ]
  },
  {
   "cell_type": "code",
   "execution_count": null,
   "metadata": {},
   "outputs": [],
   "source": [
    "save_dataset(path='data/transformed/cifar-rotated90', data=raw_data, transform=Image.Image.rotate, args=(90,))"
   ]
  },
  {
   "cell_type": "code",
   "execution_count": 115,
   "metadata": {},
   "outputs": [],
   "source": [
    "rotated = ImageFolder(root='data/transformed/cifar-rotated90', transform=ToTensor())\n",
    "dataloader_rotated = DataLoader(dataset=rotated, batch_size = 32)"
   ]
  },
  {
   "cell_type": "code",
   "execution_count": 116,
   "metadata": {},
   "outputs": [],
   "source": [
    "model = load_model('trained_models\\CNN_cifar_downloaded.torch', CIFAR_CNN_Classifier())"
   ]
  },
  {
   "cell_type": "code",
   "execution_count": 118,
   "metadata": {},
   "outputs": [
    {
     "name": "stdout",
     "output_type": "stream",
     "text": [
      "Accuracy for class: plane is 40.0 %\n",
      "Accuracy for class: car is 1.1 %\n",
      "Accuracy for class: bird is 10.5 %\n",
      "Accuracy for class: cat is 9.3 %\n",
      "Accuracy for class: deer is 68.6 %\n",
      "Accuracy for class: dog is 3.0 %\n",
      "Accuracy for class: frog is 12.0 %\n",
      "Accuracy for class: horse is 0.9 %\n",
      "Accuracy for class: ship is 19.2 %\n",
      "Accuracy for class: truck is 11.0 %\n",
      "Total Accuracy: 17.6 %\n"
     ]
    }
   ],
   "source": [
    "evaluate(model=model, test_dataloader=dataloader_rotated, classes=CIFAR10_classes)"
   ]
  },
  {
   "cell_type": "markdown",
   "metadata": {},
   "source": [
    "### Check MNIST rotate"
   ]
  },
  {
   "cell_type": "code",
   "execution_count": null,
   "metadata": {},
   "outputs": [],
   "source": [
    "transform_rotate = Compose([ToTensor(), RandomRotation(degrees=90)])"
   ]
  },
  {
   "cell_type": "code",
   "execution_count": null,
   "metadata": {},
   "outputs": [],
   "source": [
    "CustomerMnist_obj = CustomMNIST(root='./data', train=True, download=True, transform=transform_rotate)\n",
    "CustomerMnist_obj_dataloader = DataLoader(CustomerMnist_obj, batch_size=32)\n",
    "\n",
    "MNIST_model = load_model(\"trained_models/CNN_mnist_downloaded.torch\",Mnist_CNN_Classifier())"
   ]
  },
  {
   "cell_type": "code",
   "execution_count": null,
   "metadata": {},
   "outputs": [
    {
     "name": "stdout",
     "output_type": "stream",
     "text": [
      "Accuracy for class: 0 is 94.5 %\n",
      "Accuracy for class: 1 is 96.9 %\n",
      "Accuracy for class: 2 is 89.7 %\n",
      "Accuracy for class: 3 is 85.2 %\n",
      "Accuracy for class: 4 is 91.1 %\n",
      "Accuracy for class: 5 is 90.6 %\n",
      "Accuracy for class: 6 is 93.0 %\n",
      "Accuracy for class: 7 is 90.5 %\n",
      "Accuracy for class: 8 is 89.6 %\n",
      "Accuracy for class: 9 is 86.9 %\n",
      "Total Accuracy: 90.9 %\n"
     ]
    }
   ],
   "source": [
    "evaluate(CustomerMnist_obj_dataloader,MNIST_model,classes = MNIST_classes)"
   ]
  },
  {
   "cell_type": "code",
   "execution_count": null,
   "metadata": {},
   "outputs": [
    {
     "name": "stdout",
     "output_type": "stream",
     "text": [
      "Accuracy for class: 0 is 94.5 %\n",
      "Accuracy for class: 1 is 96.9 %\n",
      "Accuracy for class: 2 is 89.7 %\n",
      "Accuracy for class: 3 is 85.2 %\n",
      "Accuracy for class: 4 is 91.1 %\n",
      "Accuracy for class: 5 is 90.6 %\n",
      "Accuracy for class: 6 is 93.0 %\n",
      "Accuracy for class: 7 is 90.5 %\n",
      "Accuracy for class: 8 is 89.6 %\n",
      "Accuracy for class: 9 is 86.9 %\n",
      "Total Accuracy: 90.9 %\n"
     ]
    }
   ],
   "source": [
    "evaluate(CustomerMnist_obj_dataloader,MNIST_model,classes = MNIST_classes)"
   ]
  },
  {
   "cell_type": "markdown",
   "metadata": {},
   "source": [
    "## Incremental"
   ]
  },
  {
   "cell_type": "code",
   "execution_count": 1,
   "metadata": {},
   "outputs": [],
   "source": [
    "from torch.utils.data import ConcatDataset\n",
    "\n",
    "def combine_datasets(dataset1, dataset2, threshold1, threshold2):\n",
    "    # Take the first 'threshold' samples from each dataset\n",
    "    data1 = [dataset1[i] for i in range(threshold1)]\n",
    "    data2 = [dataset2[i] for i in range(threshold2)]\n",
    "    \n",
    "    # Combine the two datasets\n",
    "    combined_data = data1 + data2\n",
    "    \n",
    "    return combined_data"
   ]
  },
  {
   "cell_type": "code",
   "execution_count": null,
   "metadata": {},
   "outputs": [],
   "source": []
  }
 ],
 "metadata": {
  "kernelspec": {
   "display_name": "Drift_image_test",
   "language": "python",
   "name": "python3"
  },
  "language_info": {
   "codemirror_mode": {
    "name": "ipython",
    "version": 3
   },
   "file_extension": ".py",
   "mimetype": "text/x-python",
   "name": "python",
   "nbconvert_exporter": "python",
   "pygments_lexer": "ipython3",
   "version": "3.11.7"
  }
 },
 "nbformat": 4,
 "nbformat_minor": 2
}
