{
 "cells": [
  {
   "cell_type": "code",
   "execution_count": 1,
   "metadata": {},
   "outputs": [],
   "source": [
    "import pandas as pd\n",
    "import numpy as np\n",
    "import seaborn as sbs\n",
    "import matplotlib.pyplot as plt \n",
    "\n",
    "from sklearn import tree\n",
    "from sklearn.neighbors import KNeighborsClassifier"
   ]
  },
  {
   "cell_type": "markdown",
   "metadata": {},
   "source": [
    "# Set-up experiment"
   ]
  },
  {
   "cell_type": "markdown",
   "metadata": {},
   "source": [
    "# Mnist dataset experiment "
   ]
  },
  {
   "cell_type": "code",
   "execution_count": 2,
   "metadata": {},
   "outputs": [
    {
     "data": {
      "text/html": [
       "<div>\n",
       "<style scoped>\n",
       "    .dataframe tbody tr th:only-of-type {\n",
       "        vertical-align: middle;\n",
       "    }\n",
       "\n",
       "    .dataframe tbody tr th {\n",
       "        vertical-align: top;\n",
       "    }\n",
       "\n",
       "    .dataframe thead th {\n",
       "        text-align: right;\n",
       "    }\n",
       "</style>\n",
       "<table border=\"1\" class=\"dataframe\">\n",
       "  <thead>\n",
       "    <tr style=\"text-align: right;\">\n",
       "      <th></th>\n",
       "      <th>label</th>\n",
       "      <th>1x1</th>\n",
       "      <th>1x2</th>\n",
       "      <th>1x3</th>\n",
       "      <th>1x4</th>\n",
       "      <th>1x5</th>\n",
       "      <th>1x6</th>\n",
       "      <th>1x7</th>\n",
       "      <th>1x8</th>\n",
       "      <th>1x9</th>\n",
       "      <th>...</th>\n",
       "      <th>28x19</th>\n",
       "      <th>28x20</th>\n",
       "      <th>28x21</th>\n",
       "      <th>28x22</th>\n",
       "      <th>28x23</th>\n",
       "      <th>28x24</th>\n",
       "      <th>28x25</th>\n",
       "      <th>28x26</th>\n",
       "      <th>28x27</th>\n",
       "      <th>28x28</th>\n",
       "    </tr>\n",
       "  </thead>\n",
       "  <tbody>\n",
       "    <tr>\n",
       "      <th>0</th>\n",
       "      <td>5</td>\n",
       "      <td>0</td>\n",
       "      <td>0</td>\n",
       "      <td>0</td>\n",
       "      <td>0</td>\n",
       "      <td>0</td>\n",
       "      <td>0</td>\n",
       "      <td>0</td>\n",
       "      <td>0</td>\n",
       "      <td>0</td>\n",
       "      <td>...</td>\n",
       "      <td>0</td>\n",
       "      <td>0</td>\n",
       "      <td>0</td>\n",
       "      <td>0</td>\n",
       "      <td>0</td>\n",
       "      <td>0</td>\n",
       "      <td>0</td>\n",
       "      <td>0</td>\n",
       "      <td>0</td>\n",
       "      <td>0</td>\n",
       "    </tr>\n",
       "    <tr>\n",
       "      <th>1</th>\n",
       "      <td>0</td>\n",
       "      <td>0</td>\n",
       "      <td>0</td>\n",
       "      <td>0</td>\n",
       "      <td>0</td>\n",
       "      <td>0</td>\n",
       "      <td>0</td>\n",
       "      <td>0</td>\n",
       "      <td>0</td>\n",
       "      <td>0</td>\n",
       "      <td>...</td>\n",
       "      <td>0</td>\n",
       "      <td>0</td>\n",
       "      <td>0</td>\n",
       "      <td>0</td>\n",
       "      <td>0</td>\n",
       "      <td>0</td>\n",
       "      <td>0</td>\n",
       "      <td>0</td>\n",
       "      <td>0</td>\n",
       "      <td>0</td>\n",
       "    </tr>\n",
       "    <tr>\n",
       "      <th>2</th>\n",
       "      <td>4</td>\n",
       "      <td>0</td>\n",
       "      <td>0</td>\n",
       "      <td>0</td>\n",
       "      <td>0</td>\n",
       "      <td>0</td>\n",
       "      <td>0</td>\n",
       "      <td>0</td>\n",
       "      <td>0</td>\n",
       "      <td>0</td>\n",
       "      <td>...</td>\n",
       "      <td>0</td>\n",
       "      <td>0</td>\n",
       "      <td>0</td>\n",
       "      <td>0</td>\n",
       "      <td>0</td>\n",
       "      <td>0</td>\n",
       "      <td>0</td>\n",
       "      <td>0</td>\n",
       "      <td>0</td>\n",
       "      <td>0</td>\n",
       "    </tr>\n",
       "    <tr>\n",
       "      <th>3</th>\n",
       "      <td>1</td>\n",
       "      <td>0</td>\n",
       "      <td>0</td>\n",
       "      <td>0</td>\n",
       "      <td>0</td>\n",
       "      <td>0</td>\n",
       "      <td>0</td>\n",
       "      <td>0</td>\n",
       "      <td>0</td>\n",
       "      <td>0</td>\n",
       "      <td>...</td>\n",
       "      <td>0</td>\n",
       "      <td>0</td>\n",
       "      <td>0</td>\n",
       "      <td>0</td>\n",
       "      <td>0</td>\n",
       "      <td>0</td>\n",
       "      <td>0</td>\n",
       "      <td>0</td>\n",
       "      <td>0</td>\n",
       "      <td>0</td>\n",
       "    </tr>\n",
       "    <tr>\n",
       "      <th>4</th>\n",
       "      <td>9</td>\n",
       "      <td>0</td>\n",
       "      <td>0</td>\n",
       "      <td>0</td>\n",
       "      <td>0</td>\n",
       "      <td>0</td>\n",
       "      <td>0</td>\n",
       "      <td>0</td>\n",
       "      <td>0</td>\n",
       "      <td>0</td>\n",
       "      <td>...</td>\n",
       "      <td>0</td>\n",
       "      <td>0</td>\n",
       "      <td>0</td>\n",
       "      <td>0</td>\n",
       "      <td>0</td>\n",
       "      <td>0</td>\n",
       "      <td>0</td>\n",
       "      <td>0</td>\n",
       "      <td>0</td>\n",
       "      <td>0</td>\n",
       "    </tr>\n",
       "  </tbody>\n",
       "</table>\n",
       "<p>5 rows × 785 columns</p>\n",
       "</div>"
      ],
      "text/plain": [
       "   label  1x1  1x2  1x3  1x4  1x5  1x6  1x7  1x8  1x9  ...  28x19  28x20  \\\n",
       "0      5    0    0    0    0    0    0    0    0    0  ...      0      0   \n",
       "1      0    0    0    0    0    0    0    0    0    0  ...      0      0   \n",
       "2      4    0    0    0    0    0    0    0    0    0  ...      0      0   \n",
       "3      1    0    0    0    0    0    0    0    0    0  ...      0      0   \n",
       "4      9    0    0    0    0    0    0    0    0    0  ...      0      0   \n",
       "\n",
       "   28x21  28x22  28x23  28x24  28x25  28x26  28x27  28x28  \n",
       "0      0      0      0      0      0      0      0      0  \n",
       "1      0      0      0      0      0      0      0      0  \n",
       "2      0      0      0      0      0      0      0      0  \n",
       "3      0      0      0      0      0      0      0      0  \n",
       "4      0      0      0      0      0      0      0      0  \n",
       "\n",
       "[5 rows x 785 columns]"
      ]
     },
     "execution_count": 2,
     "metadata": {},
     "output_type": "execute_result"
    }
   ],
   "source": [
    "# Load the CSV file\n",
    "Mnist_data = pd.read_csv(\"data\\Mnist\\mnist_train.csv\")\n",
    "Mnist_data.head()"
   ]
  },
  {
   "cell_type": "code",
   "execution_count": 165,
   "metadata": {},
   "outputs": [],
   "source": [
    "def image_show (df:pd.DataFrame, shape: tuple[int,int], index: int, column_to_drop:str = \"\"): \n",
    "    if len(column_to_drop) != 0:\n",
    "        Mnist_data_resized = np.array(df.iloc[index].drop(column_to_drop)).reshape(shape[0],shape[1])\n",
    "        plt.imshow(Mnist_data_resized, cmap='gray')\n",
    "        plt.show()\n",
    "    else:\n",
    "        Mnist_data_resized = np.array(df.iloc[index]).reshape(shape[0],shape[1])\n",
    "        plt.imshow(Mnist_data_resized, cmap='gray')\n",
    "        plt.show()"
   ]
  },
  {
   "cell_type": "code",
   "execution_count": 4,
   "metadata": {},
   "outputs": [
    {
     "data": {
      "image/png": "[encoded data removed]",
      "text/plain": [
       "<Figure size 640x480 with 1 Axes>"
      ]
     },
     "metadata": {},
     "output_type": "display_data"
    }
   ],
   "source": [
    "image_show(Mnist_data,(28,28),0,\"label\")"
   ]
  },
  {
   "cell_type": "code",
   "execution_count": 167,
   "metadata": {},
   "outputs": [],
   "source": [
    "Mnist_data_rotated = np.rot90(Mnist_data.iloc[:, 1:].values.reshape(-1, 28, 28), k=-1, axes=(1, 2))\n",
    "Mnist_data_rotated = Mnist_data_rotated.reshape(60000, 784)\n",
    "Mnist_data_rotated_df = pd.DataFrame(Mnist_data_rotated.reshape(-1, 28*28))\n",
    "Mnist_data_rotated_df['label'] = Mnist_data['label']\n",
    "Mnist_data_rotated_df.head()\n",
    "column_names = Mnist_data.columns[1:]\n",
    "Mnist_data_rotated_df.columns = column_names.tolist() + ['label']\n",
    "Mnist_data_rotated_df.to_csv(\"data/Mnist/mnist_test_rotated.csv\")"
   ]
  },
  {
   "cell_type": "markdown",
   "metadata": {},
   "source": [
    "## Test DDAL on rotated images"
   ]
  },
  {
   "cell_type": "code",
   "execution_count": 11,
   "metadata": {},
   "outputs": [],
   "source": [
    "from ddal import DDAL\n",
    "from batcher import BatchGenerator"
   ]
  },
  {
   "cell_type": "code",
   "execution_count": 12,
   "metadata": {},
   "outputs": [],
   "source": [
    "t = DDAL()"
   ]
  },
  {
   "cell_type": "code",
   "execution_count": 21,
   "metadata": {},
   "outputs": [],
   "source": [
    "def detect_drift(train_data: pd.DataFrame, test_data: pd.DataFrame, batch_size: int, target_column: str, training_split:int=5000):\n",
    "    if test_data is None:\n",
    "        df_y = train_data[target_column] \n",
    "\n",
    "        training_proportion = int(2 * len(train_data) / training_split)\n",
    "        df_x_train = train_data[0:training_proportion].drop(columns=[target_column])\n",
    "        df_y_train = df_y[0:training_proportion]\n",
    "\n",
    "        data_test = train_data.iloc[training_proportion:len(train_data)].reset_index(drop=True)\n",
    "    else:\n",
    "        \n",
    "        df_x_train = train_data.drop(columns=[target_column])\n",
    "        df_y_train = train_data[target_column]\n",
    "\n",
    "        data_test = test_data\n",
    "\n",
    "    print(f\"Size of train_data: {len(df_x_train)}, Size of test_data: {len(data_test)}\")\n",
    "\n",
    "    y_out = np.ndarray([1, df_y_train.nunique()])\n",
    "\n",
    "    classifier = tree.DecisionTreeClassifier()\n",
    "    classifier.fit(df_x_train, df_y_train)\n",
    "    print(\"Training finished: proceeding to detecting drift\")\n",
    "\n",
    "    batcher = BatchGenerator(batch_size=batch_size,df = data_test)\n",
    "\n",
    "    ddal_detector = DDAL(size_batch=batch_size, theta=0.005, lambida=0.95)\n",
    "\n",
    "    for batch_test in batcher:\n",
    "        batch_test = batch_test.drop(columns=[target_column])\n",
    "        for index, _ in batch_test.iterrows():\n",
    "            y_pred = classifier.predict_proba(batch_test.iloc[[index]])\n",
    "            y_out = np.concatenate((y_out, y_pred))\n",
    "            max_y_pred_prob = y_pred.max()\n",
    "            ddal_detector.count_selected_instances(max_y_pred_prob)\n",
    "\n",
    "        ddal_detector.compute_current_density()\n",
    "\n",
    "        if ddal_detector.detection_module():\n",
    "            print('Drift Detected')\n",
    "            ddal_detector.reset()\n",
    "\n",
    "        # else:\n",
    "        #     print('No drift detected')\n"
   ]
  },
  {
   "cell_type": "code",
   "execution_count": 22,
   "metadata": {},
   "outputs": [
    {
     "name": "stdout",
     "output_type": "stream",
     "text": [
      "Size of train_data: 20, Size of test_data: 980\n",
      "Training finished: proceeding to detecting drift\n"
     ]
    }
   ],
   "source": [
    "detect_drift(train_data = Mnist_data.iloc[0:1000],test_data = None , batch_size= 50,target_column = 'label',training_split = 100)"
   ]
  },
  {
   "cell_type": "markdown",
   "metadata": {},
   "source": [
    "no drift detect with those settings\n",
    "detect_drift(train_data = Mnist_data,test_data = None , batch_size= 50,target_column = 'label',training_split = 100)"
   ]
  },
  {
   "cell_type": "code",
   "execution_count": 24,
   "metadata": {},
   "outputs": [
    {
     "name": "stdout",
     "output_type": "stream",
     "text": [
      "Size of train_data: 1000, Size of test_data: 60000\n",
      "Training finished: proceeding to detecting drift\n"
     ]
    },
    {
     "ename": "AttributeError",
     "evalue": "'BatchGenerator' object has no attribute 'df'",
     "output_type": "error",
     "traceback": [
      "\u001b[1;31m---------------------------------------------------------------------------\u001b[0m",
      "\u001b[1;31mAttributeError\u001b[0m                            Traceback (most recent call last)",
      "Cell \u001b[1;32mIn[24], line 1\u001b[0m\n\u001b[1;32m----> 1\u001b[0m \u001b[43mdetect_drift\u001b[49m\u001b[43m(\u001b[49m\u001b[43mtrain_data\u001b[49m\u001b[43m \u001b[49m\u001b[38;5;241;43m=\u001b[39;49m\u001b[43m \u001b[49m\u001b[43mMnist_data\u001b[49m\u001b[38;5;241;43m.\u001b[39;49m\u001b[43miloc\u001b[49m\u001b[43m[\u001b[49m\u001b[38;5;241;43m0\u001b[39;49m\u001b[43m:\u001b[49m\u001b[38;5;241;43m1000\u001b[39;49m\u001b[43m]\u001b[49m\u001b[43m,\u001b[49m\u001b[43mtest_data\u001b[49m\u001b[43m \u001b[49m\u001b[38;5;241;43m=\u001b[39;49m\u001b[43m \u001b[49m\u001b[43mMnist_data_rotated\u001b[49m\u001b[43m \u001b[49m\u001b[43m,\u001b[49m\u001b[43m \u001b[49m\u001b[43mbatch_size\u001b[49m\u001b[38;5;241;43m=\u001b[39;49m\u001b[43m \u001b[49m\u001b[38;5;241;43m50\u001b[39;49m\u001b[43m,\u001b[49m\u001b[43mtarget_column\u001b[49m\u001b[43m \u001b[49m\u001b[38;5;241;43m=\u001b[39;49m\u001b[43m \u001b[49m\u001b[38;5;124;43m'\u001b[39;49m\u001b[38;5;124;43mlabel\u001b[39;49m\u001b[38;5;124;43m'\u001b[39;49m\u001b[43m,\u001b[49m\u001b[43mtraining_split\u001b[49m\u001b[43m \u001b[49m\u001b[38;5;241;43m=\u001b[39;49m\u001b[43m \u001b[49m\u001b[38;5;241;43m100\u001b[39;49m\u001b[43m)\u001b[49m\n",
      "Cell \u001b[1;32mIn[21], line 29\u001b[0m, in \u001b[0;36mdetect_drift\u001b[1;34m(train_data, test_data, batch_size, target_column, training_split)\u001b[0m\n\u001b[0;32m     25\u001b[0m batcher \u001b[38;5;241m=\u001b[39m BatchGenerator(batch_size\u001b[38;5;241m=\u001b[39mbatch_size,df \u001b[38;5;241m=\u001b[39m data_test)\n\u001b[0;32m     27\u001b[0m ddal_detector \u001b[38;5;241m=\u001b[39m DDAL(size_batch\u001b[38;5;241m=\u001b[39mbatch_size, theta\u001b[38;5;241m=\u001b[39m\u001b[38;5;241m0.005\u001b[39m, lambida\u001b[38;5;241m=\u001b[39m\u001b[38;5;241m0.95\u001b[39m)\n\u001b[1;32m---> 29\u001b[0m \u001b[43m\u001b[49m\u001b[38;5;28;43;01mfor\u001b[39;49;00m\u001b[43m \u001b[49m\u001b[43mbatch_test\u001b[49m\u001b[43m \u001b[49m\u001b[38;5;129;43;01min\u001b[39;49;00m\u001b[43m \u001b[49m\u001b[43mbatcher\u001b[49m\u001b[43m:\u001b[49m\n\u001b[0;32m     30\u001b[0m \u001b[43m    \u001b[49m\u001b[43mbatch_test\u001b[49m\u001b[43m \u001b[49m\u001b[38;5;241;43m=\u001b[39;49m\u001b[43m \u001b[49m\u001b[43mbatch_test\u001b[49m\u001b[38;5;241;43m.\u001b[39;49m\u001b[43mdrop\u001b[49m\u001b[43m(\u001b[49m\u001b[43mcolumns\u001b[49m\u001b[38;5;241;43m=\u001b[39;49m\u001b[43m[\u001b[49m\u001b[43mtarget_column\u001b[49m\u001b[43m]\u001b[49m\u001b[43m)\u001b[49m\n\u001b[0;32m     31\u001b[0m \u001b[43m    \u001b[49m\u001b[38;5;28;43;01mfor\u001b[39;49;00m\u001b[43m \u001b[49m\u001b[43mindex\u001b[49m\u001b[43m,\u001b[49m\u001b[43m \u001b[49m\u001b[43m_\u001b[49m\u001b[43m \u001b[49m\u001b[38;5;129;43;01min\u001b[39;49;00m\u001b[43m \u001b[49m\u001b[43mbatch_test\u001b[49m\u001b[38;5;241;43m.\u001b[39;49m\u001b[43miterrows\u001b[49m\u001b[43m(\u001b[49m\u001b[43m)\u001b[49m\u001b[43m:\u001b[49m\n",
      "File \u001b[1;32m~\\OneDrive - ITU\\3rd year\\TinyML\\DataFrame_batcher\\batcher.py:63\u001b[0m, in \u001b[0;36mBatchGenerator.__next__\u001b[1;34m(self)\u001b[0m\n\u001b[0;32m     55\u001b[0m \u001b[38;5;28;01mdef\u001b[39;00m \u001b[38;5;21m__next__\u001b[39m(\u001b[38;5;28mself\u001b[39m):\n\u001b[0;32m     56\u001b[0m \u001b[38;5;250m    \u001b[39m\u001b[38;5;124;03m\"\"\"\u001b[39;00m\n\u001b[0;32m     57\u001b[0m \u001b[38;5;124;03m    Get the next batch from the DataFrame.\u001b[39;00m\n\u001b[0;32m     58\u001b[0m \n\u001b[1;32m   (...)\u001b[0m\n\u001b[0;32m     61\u001b[0m \n\u001b[0;32m     62\u001b[0m \u001b[38;5;124;03m    \"\"\"\u001b[39;00m\n\u001b[1;32m---> 63\u001b[0m     \u001b[38;5;28;01mif\u001b[39;00m \u001b[38;5;129;01mnot\u001b[39;00m \u001b[38;5;28misinstance\u001b[39m(\u001b[38;5;28;43mself\u001b[39;49m\u001b[38;5;241;43m.\u001b[39;49m\u001b[43mdf\u001b[49m, pd\u001b[38;5;241m.\u001b[39mDataFrame):\n\u001b[0;32m     64\u001b[0m         \u001b[38;5;28mprint\u001b[39m(\u001b[38;5;124m'\u001b[39m\u001b[38;5;124mPlease provide a DataFrame.\u001b[39m\u001b[38;5;124m'\u001b[39m)\n\u001b[0;32m     65\u001b[0m         \u001b[38;5;28;01mraise\u001b[39;00m \u001b[38;5;167;01mStopIteration\u001b[39;00m\n",
      "\u001b[1;31mAttributeError\u001b[0m: 'BatchGenerator' object has no attribute 'df'"
     ]
    }
   ],
   "source": [
    "detect_drift(train_data = Mnist_data.iloc[0:1000],test_data = Mnist_data_rotated , batch_size= 50,target_column = 'label',training_split = 100)"
   ]
  },
  {
   "cell_type": "markdown",
   "metadata": {},
   "source": [
    "# Bin"
   ]
  },
  {
   "cell_type": "code",
   "execution_count": null,
   "metadata": {},
   "outputs": [],
   "source": [
    "# data_sin = pd.read_csv('../data/Sine.csv', index_col=0)\n",
    "# data_sin['Classification'] = data_sin['Classification'].map({'Initially Negative':0,'Initially Positive':1})\n",
    "# data_sin['Concept Drift'] = data_sin['Concept Drift'].map({'After Concept Drift Negative':0,'After Concept Drift Positive':1})\n",
    "\n",
    "# data_sin_tmp = data_sin.copy()\n",
    "# df_y = data_sin_tmp['Classification']\n",
    "\n",
    "# training_proportion = int(2*len(data_sin)/5000)\n",
    "# print(training_proportion)\n",
    "# df_x_train = data_sin_tmp[0:training_proportion].drop(columns=['Concept Drift','Classification'])\n",
    "# df_y_train = df_y[0:training_proportion]\n",
    "\n",
    "# data_test = data_sin_tmp.iloc[training_proportion:len(data_sin_tmp)].reset_index(drop=True)\n",
    "# classifier = tree.DecisionTreeClassifier()\n",
    "# classifier.fit(df_x_train, df_y_train)\n",
    "# y_out = np.ndarray([1,2])\n",
    "# batcher = BatchGenerator(500,data_test)\n",
    "# ddal = DDAL(size_batch=500, theta=0.005, lambida=0.90)\n",
    "\n",
    "# for batch_test in batcher:\n",
    "#     batch_test = batch_test.drop(columns=['Concept Drift','Classification'])\n",
    "#     for index,_ in batch_test.iterrows():\n",
    "#         y_pred = classifier.predict_proba(batch_test.iloc[[index]])\n",
    "#         y_out = np.concatenate((y_out,y_pred))\n",
    "#         max_y_pred_prob = y_pred.max()\n",
    "#         ddal.count_selected_instances(max_y_pred_prob)\n",
    "\n",
    "#     ddal.compute_current_density()\n",
    "\n",
    "#     if ddal.detection_module():\n",
    "#         print('Drift Detected')\n",
    "#         ddal.reset()\n",
    "        \n",
    "#     else:\n",
    "#         print('No drift detected')"
   ]
  },
  {
   "cell_type": "code",
   "execution_count": null,
   "metadata": {},
   "outputs": [],
   "source": [
    "# # Load the CSV file\n",
    "# Sine_data = pd.read_csv(\"data\\Sine.csv\", index_col=0)\n",
    "# Sine_data.head()"
   ]
  }
 ],
 "metadata": {
  "kernelspec": {
   "display_name": "Drift_image_test",
   "language": "python",
   "name": "python3"
  },
  "language_info": {
   "codemirror_mode": {
    "name": "ipython",
    "version": 3
   },
   "file_extension": ".py",
   "mimetype": "text/x-python",
   "name": "python",
   "nbconvert_exporter": "python",
   "pygments_lexer": "ipython3",
   "version": "3.11.8"
  }
 },
 "nbformat": 4,
 "nbformat_minor": 2
}
